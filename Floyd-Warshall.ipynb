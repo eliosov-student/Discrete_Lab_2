{
 "cells": [
  {
   "attachments": {},
   "cell_type": "markdown",
   "metadata": {},
   "source": [
    "# Floyd-Warshall algorithm"
   ]
  },
  {
   "attachments": {},
   "cell_type": "markdown",
   "metadata": {},
   "source": [
    "![purple-divider](https://user-images.githubusercontent.com/7065401/52071927-c1cd7100-2562-11e9-908a-dde91ba14e59.png)"
   ]
  },
  {
   "attachments": {},
   "cell_type": "markdown",
   "metadata": {
    "notebookRunGroups": {
     "groupValue": ""
    }
   },
   "source": [
    "#### Import needed libraries"
   ]
  },
  {
   "cell_type": "code",
   "execution_count": 2,
   "metadata": {},
   "outputs": [],
   "source": [
    "import random\n",
    "import networkx as nx\n",
    "import matplotlib.pyplot as plt\n",
    "from itertools import combinations, groupby\n",
    "import time\n",
    "from tqdm import tqdm\n",
    "import math"
   ]
  },
  {
   "attachments": {},
   "cell_type": "markdown",
   "metadata": {},
   "source": [
    "#### Graph generation function"
   ]
  },
  {
   "cell_type": "code",
   "execution_count": 3,
   "metadata": {},
   "outputs": [],
   "source": [
    "# You can use this function to generate a random graph with 'num_of_nodes' nodes\n",
    "# and 'completeness' probability of an edge between any two nodes\n",
    "# If 'directed' is True, the graph will be directed\n",
    "# If 'draw' is True, the graph will be drawn\n",
    "def gnp_random_connected_graph(num_of_nodes: int,\n",
    "                               completeness: int,\n",
    "                               directed: bool = False,\n",
    "                               draw: bool = False):\n",
    "    \"\"\"\n",
    "    Generates a random graph, similarly to an Erdős-Rényi \n",
    "    graph, but enforcing that the resulting graph is conneted (in case of undirected graphs)\n",
    "    \"\"\"\n",
    "    if directed:\n",
    "        G = nx.DiGraph()\n",
    "    else:\n",
    "        G = nx.Graph()\n",
    "    edges = combinations(range(num_of_nodes), 2)\n",
    "    G.add_nodes_from(range(num_of_nodes))\n",
    "    \n",
    "    for _, node_edges in groupby(edges, key = lambda x: x[0]):\n",
    "        node_edges = list(node_edges)\n",
    "        random_edge = random.choice(node_edges)\n",
    "        if random.random() < 0.5:\n",
    "            random_edge = random_edge[::-1]\n",
    "        G.add_edge(*random_edge)\n",
    "        for e in node_edges:\n",
    "            if random.random() < completeness:\n",
    "                G.add_edge(*e)\n",
    "                \n",
    "    for (u,v,w) in G.edges(data=True):\n",
    "        w['weight'] = random.randint(-5, 20)\n",
    "                \n",
    "    if draw: \n",
    "        plt.figure(figsize=(10,6))\n",
    "        if directed:\n",
    "            # draw with edge weights\n",
    "            pos = nx.arf_layout(G)\n",
    "            nx.draw(G,pos, node_color='lightblue', \n",
    "                    with_labels=True,\n",
    "                    node_size=500, \n",
    "                    arrowsize=20, \n",
    "                    arrows=True)\n",
    "            labels = nx.get_edge_attributes(G,'weight')\n",
    "            nx.draw_networkx_edge_labels(G, pos,edge_labels=labels)\n",
    "            \n",
    "        else:\n",
    "            nx.draw(G, node_color='lightblue', \n",
    "                with_labels=True, \n",
    "                node_size=500)\n",
    "    return G"
   ]
  },
  {
   "attachments": {},
   "cell_type": "markdown",
   "metadata": {},
   "source": [
    "# Floyd-Warshall Algorithm"
   ]
  },
  {
   "attachments": {},
   "cell_type": "markdown",
   "metadata": {},
   "source": [
    "#### Task: write a function that will implement Floyd-Warshall's algorithm taking as an argument a graph generated using the module provided in the task (function gnp_random_connected_graph). Then compare developed algorithm with the native one from networkx"
   ]
  },
  {
   "attachments": {},
   "cell_type": "markdown",
   "metadata": {},
   "source": [
    "![purple-divider](https://user-images.githubusercontent.com/7065401/52071927-c1cd7100-2562-11e9-908a-dde91ba14e59.png)"
   ]
  },
  {
   "cell_type": "code",
   "execution_count": 14,
   "metadata": {},
   "outputs": [
    {
     "data": {
      "text/plain": [
       "EdgeDataView([(0, 4, {'weight': 11}), (1, 3, {'weight': 11}), (2, 5, {'weight': 5}), (3, 6, {'weight': 17}), (4, 5, {'weight': 11}), (5, 6, {'weight': 5})])"
      ]
     },
     "execution_count": 14,
     "metadata": {},
     "output_type": "execute_result"
    }
   ],
   "source": [
    "G_floyd = gnp_random_connected_graph(7, 0.001, False, False)\n",
    "G_floyd.edges(data=True)"
   ]
  },
  {
   "cell_type": "code",
   "execution_count": 5,
   "metadata": {},
   "outputs": [],
   "source": [
    "def create_table_for_floyd(graph, is_graph_directed):\n",
    "    \"\"\"\n",
    "    Function that creates table for\n",
    "    floyd algorithm using generated\n",
    "    graph\n",
    "    \"\"\"\n",
    "    N = len(graph.nodes)\n",
    "    table = [[math.inf for _ in range(N)] for _ in range(N)]\n",
    "    for x, y, w_dict in list(graph.edges(data=True)):\n",
    "        table[x][x] = 0\n",
    "        table[y][y] = 0\n",
    "        if is_graph_directed:\n",
    "            table[x][y] = w_dict['weight']\n",
    "        else:\n",
    "            table[x][y] = w_dict['weight']\n",
    "            table[y][x] = w_dict['weight']\n",
    "    return table\n",
    "\n",
    "def floydworshal_algorithm(graph, is_graph_directed, table = None):\n",
    "    \"\"\"\n",
    "    Floyd-Warshall algorithm implementation\n",
    "\n",
    "    Args:\n",
    "        graph: format from generation function - graph\n",
    "        nodes: int - the sum of nodes\n",
    "        is_graph_directred: bool - is graph directed?\n",
    "    Returns:\n",
    "    \"\"\"\n",
    "    if table == None:\n",
    "        table = create_table_for_floyd(graph, is_graph_directed)\n",
    "    N = len(graph.nodes)\n",
    "    for k in range(N):\n",
    "        for i in range(N):\n",
    "            for j in range(N):\n",
    "                d = table[i][k] + table[k][j]\n",
    "                if i == j and d < 0:\n",
    "                    return \"Negative cycle detected!\"\n",
    "                if table[i][j] > d:\n",
    "                    table[i][j] = d\n",
    "    return table"
   ]
  },
  {
   "attachments": {},
   "cell_type": "markdown",
   "metadata": {},
   "source": [
    "#### Here you can see an example of using created Floyd-Warshall algorithm. Function returns List[List[int]] (matrix). Firstly function create_table_for_floyd() creates the table for algorithm using generated graph and then function floydworshall_algorithm() implements algorithm"
   ]
  },
  {
   "cell_type": "code",
   "execution_count": 15,
   "metadata": {},
   "outputs": [
    {
     "data": {
      "text/plain": [
       "[[0, 55, 27, 44, 11, 22, 27],\n",
       " [55, 0, 38, 11, 44, 33, 28],\n",
       " [27, 38, 0, 27, 16, 5, 10],\n",
       " [44, 11, 27, 0, 33, 22, 17],\n",
       " [11, 44, 16, 33, 0, 11, 16],\n",
       " [22, 33, 5, 22, 11, 0, 5],\n",
       " [27, 28, 10, 17, 16, 5, 0]]"
      ]
     },
     "execution_count": 15,
     "metadata": {},
     "output_type": "execute_result"
    }
   ],
   "source": [
    "floydworshal_algorithm(G_floyd, False)"
   ]
  },
  {
   "attachments": {},
   "cell_type": "markdown",
   "metadata": {},
   "source": [
    "## FLoyd-Warshall algrorithm time measuring"
   ]
  },
  {
   "cell_type": "code",
   "execution_count": 16,
   "metadata": {},
   "outputs": [],
   "source": [
    "from networkx.algorithms import floyd_warshall_predecessor_and_distance\n",
    "nodes_for_floyd = [10, 20, 50]\n",
    "NUM_OF_ITERATIONS = 1000"
   ]
  },
  {
   "cell_type": "code",
   "execution_count": 20,
   "metadata": {},
   "outputs": [
    {
     "name": "stderr",
     "output_type": "stream",
     "text": [
      "100%|██████████| 1000/1000 [00:00<00:00, 1657.33it/s]\n",
      "100%|██████████| 1000/1000 [00:03<00:00, 314.38it/s]\n",
      "100%|██████████| 1000/1000 [00:37<00:00, 26.93it/s]\n"
     ]
    }
   ],
   "source": [
    "time_taken_imported = 0\n",
    "floyd_native_algorithm = []\n",
    "#For imported kruskal algorithm for 10, 20, 50 nodes graph\n",
    "for node in nodes_for_floyd:\n",
    "    for i in tqdm(range(NUM_OF_ITERATIONS)):\n",
    "        graph_for_imported = gnp_random_connected_graph(node, 0.01, False)\n",
    "\n",
    "        #measure time while algorithm is working\n",
    "        start = time.time() #start\n",
    "        try:\n",
    "            pred, dist = floyd_warshall_predecessor_and_distance(graph_for_imported) #algorithm is working\n",
    "        except:\n",
    "            pass\n",
    "        end = time.time() #end\n",
    "        time_taken_imported += end - start\n",
    "    floyd_native_algorithm.append(time_taken_imported)\n",
    "    time_taken_imported / NUM_OF_ITERATIONS"
   ]
  },
  {
   "cell_type": "code",
   "execution_count": 18,
   "metadata": {},
   "outputs": [
    {
     "name": "stderr",
     "output_type": "stream",
     "text": [
      "100%|██████████| 1000/1000 [00:40<00:00, 24.82it/s]\n",
      "100%|██████████| 1000/1000 [00:41<00:00, 24.13it/s]\n",
      "100%|██████████| 1000/1000 [00:41<00:00, 23.90it/s]\n"
     ]
    }
   ],
   "source": [
    "time_taken_created = 0\n",
    "floyd_own_algorithm = []\n",
    "#For created floyd algorithm for 10, 20, 50 nodes graph\n",
    "for node in nodes_for_floyd:\n",
    "    for i in tqdm(range(NUM_OF_ITERATIONS)):\n",
    "        geaph_for_created = gnp_random_connected_graph(node, 0.01, False)\n",
    "\n",
    "        #measure time while algorithm is working\n",
    "        start = time.time() #start\n",
    "        floydworshal_algorithm(graph_for_imported, True)\n",
    "        end = time.time() #end\n",
    "        time_taken_created += end - start\n",
    "    floyd_own_algorithm.append(time_taken_created)\n",
    "    time_taken_created / NUM_OF_ITERATIONS"
   ]
  },
  {
   "attachments": {},
   "cell_type": "markdown",
   "metadata": {},
   "source": [
    "#### Here you can see comparing native and created algorithms and a graph that shows diference in time"
   ]
  },
  {
   "cell_type": "code",
   "execution_count": 21,
   "metadata": {},
   "outputs": [
    {
     "data": {
      "image/png": "[encoded data removed]",
      "text/plain": [
       "<Figure size 640x480 with 1 Axes>"
      ]
     },
     "metadata": {},
     "output_type": "display_data"
    }
   ],
   "source": [
    "plt.plot(nodes_for_floyd, floyd_native_algorithm)\n",
    "plt.plot(nodes_for_floyd, floyd_own_algorithm)\n",
    "plt.show()"
   ]
  },
  {
   "attachments": {},
   "cell_type": "markdown",
   "metadata": {},
   "source": [
    "#### As you can see, our algorithm is always much slower than native one. This is because the native algorithm is written with better time complexity (probably other data structures)"
   ]
  }
 ],
 "metadata": {
  "kernelspec": {
   "display_name": "Python 3",
   "language": "python",
   "name": "python3"
  },
  "language_info": {
   "codemirror_mode": {
    "name": "ipython",
    "version": 3
   },
   "file_extension": ".py",
   "mimetype": "text/x-python",
   "name": "python",
   "nbconvert_exporter": "python",
   "pygments_lexer": "ipython3",
   "version": "3.10.7"
  },
  "orig_nbformat": 4,
  "vscode": {
   "interpreter": {
    "hash": "b239acf2821489c398a9848859e84ce39b99d30cc4031fb37cc7461da3883639"
   }
  }
 },
 "nbformat": 4,
 "nbformat_minor": 2
}
