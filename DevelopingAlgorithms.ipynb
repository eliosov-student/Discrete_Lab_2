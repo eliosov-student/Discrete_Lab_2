{
 "cells": [
  {
   "attachments": {},
   "cell_type": "markdown",
   "metadata": {},
   "source": [
    "# Study of the operation of algorithms ( Kruskal algorithm, Floyd-Warshall algorithm )"
   ]
  },
  {
   "attachments": {},
   "cell_type": "markdown",
   "metadata": {},
   "source": [
    "![purple-divider](https://user-images.githubusercontent.com/7065401/52071927-c1cd7100-2562-11e9-908a-dde91ba14e59.png)"
   ]
  },
  {
   "attachments": {},
   "cell_type": "markdown",
   "metadata": {
    "notebookRunGroups": {
     "groupValue": ""
    }
   },
   "source": [
    "#### Import needed libraries"
   ]
  },
  {
   "cell_type": "code",
   "execution_count": 2,
   "metadata": {},
   "outputs": [],
   "source": [
    "import random\n",
    "import networkx as nx\n",
    "import matplotlib.pyplot as plt\n",
    "from itertools import combinations, groupby\n",
    "import time\n",
    "from tqdm import tqdm\n",
    "import math\n",
    "from typing import List, Tuple"
   ]
  },
  {
   "attachments": {},
   "cell_type": "markdown",
   "metadata": {},
   "source": [
    "#### Graph generation function"
   ]
  },
  {
   "cell_type": "code",
   "execution_count": 3,
   "metadata": {},
   "outputs": [],
   "source": [
    "# You can use this function to generate a random graph with 'num_of_nodes' nodes\n",
    "# and 'completeness' probability of an edge between any two nodes\n",
    "# If 'directed' is True, the graph will be directed\n",
    "# If 'draw' is True, the graph will be drawn\n",
    "def gnp_random_connected_graph(num_of_nodes: int,\n",
    "                               completeness: int,\n",
    "                               directed: bool = False,\n",
    "                               draw: bool = False):\n",
    "    \"\"\"\n",
    "    Generates a random graph, similarly to an Erdős-Rényi \n",
    "    graph, but enforcing that the resulting graph is conneted (in case of undirected graphs)\n",
    "    \"\"\"\n",
    "    if directed:\n",
    "        G = nx.DiGraph()\n",
    "    else:\n",
    "        G = nx.Graph()\n",
    "    edges = combinations(range(num_of_nodes), 2)\n",
    "    G.add_nodes_from(range(num_of_nodes))\n",
    "    \n",
    "    for _, node_edges in groupby(edges, key = lambda x: x[0]):\n",
    "        node_edges = list(node_edges)\n",
    "        random_edge = random.choice(node_edges)\n",
    "        if random.random() < 0.5:\n",
    "            random_edge = random_edge[::-1]\n",
    "        G.add_edge(*random_edge)\n",
    "        for e in node_edges:\n",
    "            if random.random() < completeness:\n",
    "                G.add_edge(*e)\n",
    "                \n",
    "    for (u,v,w) in G.edges(data=True):\n",
    "        w['weight'] = random.randint(-5, 20)\n",
    "                \n",
    "    if draw: \n",
    "        plt.figure(figsize=(10,6))\n",
    "        if directed:\n",
    "            # draw with edge weights\n",
    "            pos = nx.arf_layout(G)\n",
    "            nx.draw(G,pos, node_color='lightblue', \n",
    "                    with_labels=True,\n",
    "                    node_size=500, \n",
    "                    arrowsize=20, \n",
    "                    arrows=True)\n",
    "            labels = nx.get_edge_attributes(G,'weight')\n",
    "            nx.draw_networkx_edge_labels(G, pos,edge_labels=labels)\n",
    "            \n",
    "        else:\n",
    "            nx.draw(G, node_color='lightblue', \n",
    "                with_labels=True, \n",
    "                node_size=500)\n",
    "    return G"
   ]
  },
  {
   "attachments": {},
   "cell_type": "markdown",
   "metadata": {
    "slideshow": {
     "slide_type": "slide"
    },
    "tags": []
   },
   "source": [
    "# Kruskal algorithm"
   ]
  },
  {
   "attachments": {},
   "cell_type": "markdown",
   "metadata": {},
   "source": [
    "#### Task: write a function that will implement Kruskal's algorithm taking as an argument a graph generated using the module provided in the task (function gnp_random_connected_graph). Then compare developed algorithm with native one from imported library"
   ]
  },
  {
   "attachments": {},
   "cell_type": "markdown",
   "metadata": {},
   "source": [
    "![purple-divider](https://user-images.githubusercontent.com/7065401/52071927-c1cd7100-2562-11e9-908a-dde91ba14e59.png)"
   ]
  },
  {
   "cell_type": "code",
   "execution_count": 4,
   "metadata": {},
   "outputs": [],
   "source": [
    "#generate random graph\n",
    "G_kruskal = gnp_random_connected_graph(10, 1, False, False)"
   ]
  },
  {
   "cell_type": "code",
   "execution_count": 5,
   "metadata": {},
   "outputs": [],
   "source": [
    "def kruskals_algorithm(graph_edges):\n",
    "    \"\"\"\n",
    "    Kruskal's algorithm impemetation\n",
    "    \"\"\"\n",
    "    sorted_graph = sorted(graph_edges, key= lambda x: x[2].get('weight'))\n",
    "    connected_nodes_groups = {}\n",
    "    already_connected_nodes = []\n",
    "    min_frame = []\n",
    "    for edge in sorted_graph:\n",
    "        if not edge[0] in already_connected_nodes or not edge[1] in already_connected_nodes: # checking if one of the nodes are not connected\n",
    "            if not edge[0] in already_connected_nodes and not edge[1] in already_connected_nodes: # checking for both\n",
    "                connected_nodes_groups[edge[0]] = [edge[0], edge[1]] # connect two nodes with each other\n",
    "                connected_nodes_groups[edge[1]] = [edge[0], edge[1]]\n",
    "            else:\n",
    "                if not connected_nodes_groups.get(edge[0]):\n",
    "                    connected_nodes_groups[edge[1]].append(edge[0])\n",
    "                    connected_nodes_groups[edge[0]] = connected_nodes_groups[edge[1]]\n",
    "                else:\n",
    "                    connected_nodes_groups[edge[0]].append(edge[1])\n",
    "                    connected_nodes_groups[edge[1]] = connected_nodes_groups[edge[0]]\n",
    "            min_frame.append(edge)\n",
    "            already_connected_nodes.append(edge[0])\n",
    "            already_connected_nodes.append(edge[1])\n",
    "    for i in sorted_graph:\n",
    "        if i[0] in connected_nodes_groups[i[0]] and i[1] not in connected_nodes_groups[i[0]]:\n",
    "            min_frame.append(i)\n",
    "    return min_frame"
   ]
  },
  {
   "attachments": {},
   "cell_type": "markdown",
   "metadata": {},
   "source": [
    "#### Here you can see an example of using created Kruskal algorithm. Function returns List[List[int]] (matrix). Full algorithm is implemented in kruskal_algorithm() function. It takes one argument - List[Tuple[int, int, dict]] (graph edges list with information about weight as a dict). Function returns List[Tuple[int, int, dict]] - minimum carcass for input graph"
   ]
  },
  {
   "cell_type": "code",
   "execution_count": 6,
   "metadata": {},
   "outputs": [
    {
     "data": {
      "text/plain": [
       "[(5, 8, {'weight': -5}),\n",
       " (7, 8, {'weight': -5}),\n",
       " (2, 8, {'weight': -4}),\n",
       " (4, 9, {'weight': -4}),\n",
       " (0, 4, {'weight': -3}),\n",
       " (3, 6, {'weight': -2}),\n",
       " (1, 7, {'weight': -1}),\n",
       " (0, 8, {'weight': -2}),\n",
       " (6, 9, {'weight': -2}),\n",
       " (5, 9, {'weight': -1}),\n",
       " (1, 3, {'weight': 1}),\n",
       " (4, 7, {'weight': 1}),\n",
       " (0, 5, {'weight': 2}),\n",
       " (3, 8, {'weight': 2}),\n",
       " (0, 6, {'weight': 3}),\n",
       " (3, 7, {'weight': 4}),\n",
       " (4, 6, {'weight': 4}),\n",
       " (5, 6, {'weight': 4}),\n",
       " (6, 8, {'weight': 4}),\n",
       " (7, 9, {'weight': 4}),\n",
       " (3, 5, {'weight': 6}),\n",
       " (8, 9, {'weight': 6}),\n",
       " (6, 7, {'weight': 7}),\n",
       " (1, 4, {'weight': 8}),\n",
       " (4, 5, {'weight': 8}),\n",
       " (4, 8, {'weight': 9}),\n",
       " (0, 3, {'weight': 10}),\n",
       " (0, 1, {'weight': 12}),\n",
       " (1, 6, {'weight': 13}),\n",
       " (0, 2, {'weight': 14}),\n",
       " (2, 3, {'weight': 15}),\n",
       " (3, 4, {'weight': 15}),\n",
       " (1, 9, {'weight': 17}),\n",
       " (2, 6, {'weight': 18}),\n",
       " (2, 4, {'weight': 18}),\n",
       " (0, 7, {'weight': 19}),\n",
       " (3, 9, {'weight': 19}),\n",
       " (5, 7, {'weight': 19}),\n",
       " (2, 9, {'weight': 20})]"
      ]
     },
     "execution_count": 6,
     "metadata": {},
     "output_type": "execute_result"
    }
   ],
   "source": [
    "kruskals_algorithm(list(G_kruskal.edges(data=True)))"
   ]
  },
  {
   "attachments": {},
   "cell_type": "markdown",
   "metadata": {},
   "source": [
    "## Kruskal algrorithm time measuring"
   ]
  },
  {
   "cell_type": "code",
   "execution_count": 7,
   "metadata": {},
   "outputs": [],
   "source": [
    "from networkx.algorithms import tree\n",
    "nodes_kruskal = [10, 20, 50, 100, 200]\n",
    "NUM_OF_ITERATIONS = 1000"
   ]
  },
  {
   "cell_type": "code",
   "execution_count": 8,
   "metadata": {},
   "outputs": [
    {
     "name": "stderr",
     "output_type": "stream",
     "text": [
      "100%|██████████| 1000/1000 [00:00<00:00, 2052.22it/s]\n",
      "100%|██████████| 1000/1000 [00:00<00:00, 1026.31it/s]\n",
      "100%|██████████| 1000/1000 [00:05<00:00, 185.72it/s]\n",
      "100%|██████████| 1000/1000 [00:17<00:00, 55.65it/s]\n",
      "100%|██████████| 1000/1000 [01:09<00:00, 14.30it/s]\n"
     ]
    }
   ],
   "source": [
    "time_taken_imported = 0\n",
    "kruskal_native_algorithm = []\n",
    "#For imported kruskal algorithm for 10, 20, 50, 100 and 200 nodes graph\n",
    "for node in nodes_kruskal:\n",
    "    for i in tqdm(range(NUM_OF_ITERATIONS)):\n",
    "        graph_for_imported = gnp_random_connected_graph(node, 0.4, False)\n",
    "\n",
    "        #measure time while algorithm is working\n",
    "        start = time.time() #start\n",
    "        tree.minimum_spanning_tree(graph_for_imported, algorithm=\"kruskal\") #algorithm is working\n",
    "        end = time.time() #end\n",
    "        time_taken_imported += end - start\n",
    "    kruskal_native_algorithm.append(time_taken_imported)\n",
    "    time_taken_imported / NUM_OF_ITERATIONS"
   ]
  },
  {
   "cell_type": "code",
   "execution_count": 9,
   "metadata": {},
   "outputs": [
    {
     "name": "stderr",
     "output_type": "stream",
     "text": [
      "100%|██████████| 1000/1000 [00:00<00:00, 3224.02it/s]\n",
      "100%|██████████| 1000/1000 [00:00<00:00, 1282.23it/s]\n",
      "100%|██████████| 1000/1000 [00:04<00:00, 218.55it/s]\n",
      "100%|██████████| 1000/1000 [00:21<00:00, 47.23it/s]\n",
      "100%|██████████| 1000/1000 [01:40<00:00,  9.93it/s]\n"
     ]
    }
   ],
   "source": [
    "time_taken_created = 0\n",
    "kruskal_own_algorithm = []\n",
    "#For created kruskal algorithm for 10, 20, 50, 100 and 200 nodes graph\n",
    "for node in nodes_kruskal:\n",
    "    for i in tqdm(range(NUM_OF_ITERATIONS)):\n",
    "        geaph_for_created = gnp_random_connected_graph(node, 0.4, False)\n",
    "\n",
    "        #measure time while algorithm is working\n",
    "        start = time.time() #start\n",
    "        kruskals_algorithm(geaph_for_created.edges(data=True)) #algorithm is working\n",
    "        end = time.time() #end\n",
    "        time_taken_created += end - start\n",
    "    kruskal_own_algorithm.append(time_taken_created)\n",
    "    time_taken_created / NUM_OF_ITERATIONS"
   ]
  },
  {
   "attachments": {},
   "cell_type": "markdown",
   "metadata": {},
   "source": [
    "#### Here you can see comparing native and created algorithms and a graph that shows diference in time"
   ]
  },
  {
   "cell_type": "code",
   "execution_count": 10,
   "metadata": {},
   "outputs": [
    {
     "data": {
      "image/png": "[encoded data removed]",
      "text/plain": [
       "<Figure size 640x480 with 1 Axes>"
      ]
     },
     "metadata": {},
     "output_type": "display_data"
    }
   ],
   "source": [
    "#comparing own and native kruskal algorithms by plotting\n",
    "plt.plot(nodes_kruskal, kruskal_native_algorithm)\n",
    "plt.plot(nodes_kruskal, kruskal_own_algorithm)\n",
    "plt.show()"
   ]
  },
  {
   "attachments": {},
   "cell_type": "markdown",
   "metadata": {},
   "source": [
    "#### As we see, created algorithm is a little faster than native when graph nodex < 100 and slower than native when nodex > 100. This is because the native algorithm is optimally written by professionals"
   ]
  },
  {
   "attachments": {},
   "cell_type": "markdown",
   "metadata": {},
   "source": [
    "# Floyd-Warshall Algorithm"
   ]
  },
  {
   "attachments": {},
   "cell_type": "markdown",
   "metadata": {},
   "source": [
    "#### Task: write a function that will implement Floyd-Warshall's algorithm taking as an argument a graph generated using the module provided in the task (function gnp_random_connected_graph). Then compare developed algorithm with native one from imported library"
   ]
  },
  {
   "attachments": {},
   "cell_type": "markdown",
   "metadata": {},
   "source": [
    "![purple-divider](https://user-images.githubusercontent.com/7065401/52071927-c1cd7100-2562-11e9-908a-dde91ba14e59.png)"
   ]
  },
  {
   "cell_type": "code",
   "execution_count": 11,
   "metadata": {},
   "outputs": [
    {
     "data": {
      "text/plain": [
       "EdgeDataView([(0, 1, {'weight': -2}), (1, 2, {'weight': 3}), (2, 5, {'weight': 1}), (3, 5, {'weight': 12}), (4, 6, {'weight': -5}), (5, 6, {'weight': 4})])"
      ]
     },
     "execution_count": 11,
     "metadata": {},
     "output_type": "execute_result"
    }
   ],
   "source": [
    "G_floyd = gnp_random_connected_graph(7, 0.001, False, False)\n",
    "G_floyd.edges(data=True)"
   ]
  },
  {
   "cell_type": "code",
   "execution_count": 12,
   "metadata": {},
   "outputs": [],
   "source": [
    "def create_table_for_floyd(graph, is_graph_directed):\n",
    "    \"\"\"\n",
    "    Function that creates table for\n",
    "    floyd algorithm using generated\n",
    "    graph\n",
    "    \"\"\"\n",
    "    N = len(graph.nodes)\n",
    "    table = [[math.inf for _ in range(N)] for _ in range(N)]\n",
    "    for x, y, w_dict in list(graph.edges(data=True)):\n",
    "        table[x][x] = 0\n",
    "        table[y][y] = 0\n",
    "        if is_graph_directed:\n",
    "            table[x][y] = w_dict['weight']\n",
    "        else:\n",
    "            table[x][y] = w_dict['weight']\n",
    "            table[y][x] = w_dict['weight']\n",
    "    return table\n",
    "\n",
    "def floydworshal_algorithm(graph, is_graph_directed, table = None):\n",
    "    \"\"\"\n",
    "    Floyd-Warshall algorithm implementation\n",
    "\n",
    "    Args:\n",
    "        graph: format from generation function - graph\n",
    "        nodes: int - the sum of nodes\n",
    "        is_graph_directred: bool - is graph directed?\n",
    "    Returns:\n",
    "    \"\"\"\n",
    "    if table == None:\n",
    "        table = create_table_for_floyd(graph, is_graph_directed)\n",
    "    N = len(graph.nodes)\n",
    "    for k in range(N):\n",
    "        for i in range(N):\n",
    "            for j in range(N):\n",
    "                d = table[i][k] + table[k][j]\n",
    "                if i == j and d < 0:\n",
    "                    return \"Negative cycle detected!\"\n",
    "                if table[i][j] > d:\n",
    "                    table[i][j] = d\n",
    "    return table"
   ]
  },
  {
   "attachments": {},
   "cell_type": "markdown",
   "metadata": {},
   "source": [
    "#### Here you can see an example of using created Floyd-Warshall algorithm. Function returns List[List[int]] (matrix). Firstly function create_table_for_floyd() creates the table for algorithm using generated graph and then function floydworshall_algorithm() implements algorithm"
   ]
  },
  {
   "cell_type": "code",
   "execution_count": 13,
   "metadata": {},
   "outputs": [
    {
     "data": {
      "text/plain": [
       "'Negative cycle detected!'"
      ]
     },
     "execution_count": 13,
     "metadata": {},
     "output_type": "execute_result"
    }
   ],
   "source": [
    "floydworshal_algorithm(G_floyd, False)"
   ]
  },
  {
   "attachments": {},
   "cell_type": "markdown",
   "metadata": {},
   "source": [
    "## FLoyd-Warshall algrorithm time measuring"
   ]
  },
  {
   "cell_type": "code",
   "execution_count": 14,
   "metadata": {},
   "outputs": [],
   "source": [
    "from networkx.algorithms import floyd_warshall_predecessor_and_distance\n",
    "nodes_for_floyd = [10, 20, 50]\n",
    "NUM_OF_ITERATIONS = 1000"
   ]
  },
  {
   "cell_type": "code",
   "execution_count": 15,
   "metadata": {},
   "outputs": [
    {
     "name": "stderr",
     "output_type": "stream",
     "text": [
      "100%|██████████| 1000/1000 [00:00<00:00, 1790.11it/s]\n",
      "100%|██████████| 1000/1000 [00:03<00:00, 332.19it/s]\n",
      "100%|██████████| 1000/1000 [00:35<00:00, 28.05it/s]\n"
     ]
    }
   ],
   "source": [
    "time_taken_imported = 0\n",
    "floyd_native_algorithm = []\n",
    "#For imported kruskal algorithm for 10, 20, 50 nodes graph\n",
    "for node in nodes_for_floyd:\n",
    "    for i in tqdm(range(NUM_OF_ITERATIONS)):\n",
    "        graph_for_imported = gnp_random_connected_graph(node, 0.01, False)\n",
    "\n",
    "        #measure time while algorithm is working\n",
    "        start = time.time() #start\n",
    "        try:\n",
    "            pred, dist = floyd_warshall_predecessor_and_distance(graph_for_imported) #algorithm is working\n",
    "        except:\n",
    "            pass\n",
    "        end = time.time() #end\n",
    "        time_taken_imported += end - start\n",
    "    floyd_native_algorithm.append(time_taken_imported)\n",
    "    time_taken_imported / NUM_OF_ITERATIONS"
   ]
  },
  {
   "cell_type": "code",
   "execution_count": 16,
   "metadata": {},
   "outputs": [
    {
     "name": "stderr",
     "output_type": "stream",
     "text": [
      "100%|██████████| 1000/1000 [00:28<00:00, 35.64it/s]\n",
      "100%|██████████| 1000/1000 [00:29<00:00, 33.93it/s]\n",
      "100%|██████████| 1000/1000 [00:31<00:00, 32.15it/s]\n"
     ]
    }
   ],
   "source": [
    "time_taken_created = 0\n",
    "floyd_own_algorithm = []\n",
    "#For created floyd algorithm for 10, 20, 50 nodes graph\n",
    "for node in nodes_for_floyd:\n",
    "    for i in tqdm(range(NUM_OF_ITERATIONS)):\n",
    "        geaph_for_created = gnp_random_connected_graph(node, 0.01, False)\n",
    "\n",
    "        #measure time while algorithm is working\n",
    "        start = time.time() #start\n",
    "        floydworshal_algorithm(graph_for_imported, True)\n",
    "        end = time.time() #end\n",
    "        time_taken_created += end - start\n",
    "    floyd_own_algorithm.append(time_taken_created)\n",
    "    time_taken_created / NUM_OF_ITERATIONS"
   ]
  },
  {
   "attachments": {},
   "cell_type": "markdown",
   "metadata": {},
   "source": [
    "#### Here you can see comparing native and created algorithms and a graph that shows diference in time"
   ]
  },
  {
   "cell_type": "code",
   "execution_count": 17,
   "metadata": {},
   "outputs": [
    {
     "data": {
      "image/png": "[encoded data removed]",
      "text/plain": [
       "<Figure size 640x480 with 1 Axes>"
      ]
     },
     "metadata": {},
     "output_type": "display_data"
    }
   ],
   "source": [
    "plt.plot(nodes_for_floyd, floyd_native_algorithm)\n",
    "plt.plot(nodes_for_floyd, floyd_own_algorithm)\n",
    "plt.show()"
   ]
  },
  {
   "attachments": {},
   "cell_type": "markdown",
   "metadata": {},
   "source": [
    "#### As you can see, created algorithm is always much slower than native one. This is because the native algorithm is optimally written by professionals"
   ]
  },
  {
   "attachments": {},
   "cell_type": "markdown",
   "metadata": {},
   "source": [
    "# Conslusion"
   ]
  },
  {
   "attachments": {},
   "cell_type": "markdown",
   "metadata": {},
   "source": [
    "![purple-divider](https://user-images.githubusercontent.com/7065401/52071927-c1cd7100-2562-11e9-908a-dde91ba14e59.png)"
   ]
  },
  {
   "attachments": {},
   "cell_type": "markdown",
   "metadata": {},
   "source": [
    "#### As we can see we are able to create our own algorithms, but they will not be so fast as we want. So, instead of creating, we can use built-in algorithms. Or, also, it is possible to raise programming skills and create as fast created algorithms as native ones."
   ]
  }
 ],
 "metadata": {
  "kernelspec": {
   "display_name": "Python 3",
   "language": "python",
   "name": "python3"
  },
  "language_info": {
   "codemirror_mode": {
    "name": "ipython",
    "version": 3
   },
   "file_extension": ".py",
   "mimetype": "text/x-python",
   "name": "python",
   "nbconvert_exporter": "python",
   "pygments_lexer": "ipython3",
   "version": "3.11.1"
  },
  "orig_nbformat": 4,
  "vscode": {
   "interpreter": {
    "hash": "fd6adc210a42a83047ca603df81c55b53eb0bd4eab49c4ed451eea5f662c6109"
   }
  }
 },
 "nbformat": 4,
 "nbformat_minor": 2
}
