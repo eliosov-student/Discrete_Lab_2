{
 "cells": [
  {
   "cell_type": "markdown",
   "metadata": {},
   "source": [
    "# Decision Tree classifier\n",
    "\n",
    "### Today your task is to get familiar with decision tree classifier - simple, but powerful case of discrete math usage."
   ]
  },
  {
   "cell_type": "markdown",
   "metadata": {},
   "source": [
    "\n",
    "![purple-divider](https://user-images.githubusercontent.com/7065401/52071927-c1cd7100-2562-11e9-908a-dde91ba14e59.png)"
   ]
  },
  {
   "cell_type": "markdown",
   "metadata": {},
   "source": [
    "### General idea\n",
    "#### You are expected to write a quite simple, yet good core logic of decision tree classifier class. Additionaly, you need to test your results and write down a report on what you've done, which principles used and explain the general process."
   ]
  },
  {
   "cell_type": "markdown",
   "metadata": {},
   "source": [
    "\n",
    "#### Hopefully, you have already learned what is decision tree classifier and how it work. For better understanding, and in case if something is still unclear for you, here are some useful links on basics of DTC:\n",
    "- https://towardsdatascience.com/decision-tree-from-scratch-in-python-46e99dfea775\n",
    "- https://towardsdatascience.com/decision-tree-algorithm-in-python-from-scratch-8c43f0e40173\n",
    "- https://machinelearningmastery.com/implement-decision-tree-algorithm-scratch-python/\n",
    "- https://anderfernandez.com/en/blog/code-decision-tree-python-from-scratch/\n",
    "\n",
    "#### Also, for those interested to learn more about machine learning and particulary Desicion Trees - here is a great course on Coursera (you may be interested in the whole course or just this particular week):\n",
    "- https://www.coursera.org/learn/advanced-learning-algorithms/home/week/4\n"
   ]
  },
  {
   "cell_type": "markdown",
   "metadata": {},
   "source": [
    "\n",
    "![purple-divider](https://user-images.githubusercontent.com/7065401/52071927-c1cd7100-2562-11e9-908a-dde91ba14e59.png)"
   ]
  },
  {
   "cell_type": "markdown",
   "metadata": {},
   "source": [
    "### Dataset\n",
    "#### You can use Iris dataset for this task. It is a very popular dataset for machine learning and data science. It contains 150 samples of 3 different species of Iris flowers (Iris setosa, Iris virginica and Iris versicolor). Four features were measured from each sample: the length and the width of the sepals and petals, in centimeters. \n",
    "Read more on this: https://scikit-learn.org/stable/auto_examples/datasets/plot_iris_dataset.html\n",
    "https://en.wikipedia.org/wiki/Iris_flower_data_set\n",
    "#### However, using more interesting and intricate datasets is much appreciated. You can use any dataset you want, but it should be a classification one. For example you can use breast cancer or wine datasets, which are also available in sklearn.datasets. Or you can use any other dataset you find interesting.\n",
    "P.S. In case you are not sure if your dataset is suitable, feel free to ask assistants :)."
   ]
  },
  {
   "cell_type": "markdown",
   "metadata": {},
   "source": [
    "\n",
    "![purple-divider](https://user-images.githubusercontent.com/7065401/52071927-c1cd7100-2562-11e9-908a-dde91ba14e59.png)"
   ]
  },
  {
   "cell_type": "markdown",
   "metadata": {},
   "source": [
    "## Finally, it is your turn to write such classifier by yourself!"
   ]
  },
  {
   "cell_type": "markdown",
   "metadata": {},
   "source": [
    "###  Gini impurity\n",
    "\n",
    "Decision trees use the concept of Gini impurity to describe how “pure” a node is. A node is pure (G = 0) if all its samples belong to the same class, while a node with many samples from many different classes will have a Gini closer to 1.\n",
    "\n",
    "$G = 1 - \\sum_{k=1}^{n}p_{k}^2$\n",
    "\n",
    "For example, if a node contains five samples, with two belonging to the first class (first flower), two of class 2, one of class 3 and none of class 4, then\n",
    "\n",
    "$G = 1 - (\\frac{2}{5})^2 - (\\frac{2}{5})^2 - (\\frac{1}{5})^2 = 0.64$"
   ]
  },
  {
   "cell_type": "code",
   "execution_count": 1,
   "metadata": {},
   "outputs": [],
   "source": [
    "class Node:\n",
    "\n",
    "    def __init__(self, X, y, gini):\n",
    "        self.X = X\n",
    "        self.y = y\n",
    "        self.gini = gini\n",
    "        self.feature_index = 0\n",
    "        self.threshold = 0\n",
    "        self.left = None\n",
    "        self.right = None\n"
   ]
  },
  {
   "cell_type": "code",
   "execution_count": 2,
   "metadata": {},
   "outputs": [],
   "source": [
    "# Implement a decision tree classifier\n",
    "from collections import Counter\n",
    "from math import log2, sqrt, ceil\n",
    "from sklearn.model_selection import train_test_split\n",
    "from sklearn.datasets import load_breast_cancer\n",
    "\n",
    "\n",
    "class MyDecisionTreeClassifier:\n",
    "\n",
    "    def __init__(self, max_depth=3, min_data_for_split=5):\n",
    "        self.max_depth = max_depth\n",
    "        self.min_data_for_split = min_data_for_split\n",
    "\n",
    "    def gini(self, groups, classes):\n",
    "        '''\n",
    "        A Gini score gives an idea of how good a split is by how mixed the\n",
    "        classes are in the two groups created by the split.\n",
    "\n",
    "        A perfect separation results in a Gini score of 0,\n",
    "        whereas the worst case split that results in 50/50\n",
    "        classes in each group result in a Gini score of 0.5\n",
    "        (for a 2 class problem).\n",
    "        '''\n",
    "        total = sum((len(group) for group in groups))\n",
    "        gini = 0\n",
    "        for i, group in enumerate(groups):\n",
    "            if len(group):\n",
    "                gini += len(group)/total*(1 -\n",
    "                                          sum((\n",
    "                                              value**2 for value in Counter(classes[i]).values()))/len(group)**2)\n",
    "        return gini\n",
    "\n",
    "    def split_data(self, X, y) -> tuple[int, int]:\n",
    "        '''\n",
    "        test all the possible splits in O(N*F) where N in number of samples\n",
    "        and F is number of features\n",
    "        return index and threshold value\n",
    "        '''\n",
    "        gini = 1\n",
    "        index = None\n",
    "        threshold = None\n",
    "        for i in range(len(X[0])):\n",
    "            for j in range(len(X)):\n",
    "                left_X = []\n",
    "                right_X = []\n",
    "                left_y = []\n",
    "                right_y = []\n",
    "                for k, element in enumerate(X):\n",
    "                    if element[i] >= X[j][i]:\n",
    "                        right_X.append(element)\n",
    "                        right_y.append(y[k])\n",
    "                    else:\n",
    "                        left_X.append(element)\n",
    "                        left_y.append(y[k])\n",
    "                if left_X and right_X and self.gini((left_X, right_X), (left_y, right_y)) < gini:\n",
    "                    gini = self.gini((left_X, right_X), (left_y, right_y))\n",
    "                    index = i\n",
    "                    threshold = X[j][i]\n",
    "        if index and threshold:\n",
    "            return (index, threshold)\n",
    "        else:\n",
    "            return None\n",
    "\n",
    "    def build_tree(self, X, y, depth=0):\n",
    "        node = Node(\n",
    "            X=X,\n",
    "            y=y,\n",
    "            gini=self.gini((X,), (y,))\n",
    "        )\n",
    "        if depth < self.max_depth and len(X) > self.min_data_for_split:\n",
    "            if split := self.split_data(X, y):\n",
    "                index, threshold = split\n",
    "                left_X = []\n",
    "                right_X = []\n",
    "                left_y = []\n",
    "                right_y = []\n",
    "                for k, element in enumerate(X):\n",
    "                    if element[index] >= threshold:\n",
    "                        right_X.append(element)\n",
    "                        right_y.append(y[k])\n",
    "                    else:\n",
    "                        left_X.append(element)\n",
    "                        left_y.append(y[k])\n",
    "                node.gini = self.gini((left_X, right_X), (left_y, right_y))\n",
    "                node.feature_index = index\n",
    "                node.threshold = threshold\n",
    "                node.left = self.build_tree(left_X, left_y, depth + 1)\n",
    "                node.right = self.build_tree(right_X, right_y, depth + 1)\n",
    "        return node\n",
    "\n",
    "    def fit(self, X, y):\n",
    "        '''\n",
    "        wrapper for build tree / train\n",
    "        '''\n",
    "        self.tree = self.build_tree(X, y)\n",
    "\n",
    "    def predict(self, X_test):\n",
    "        '''\n",
    "        traverse the tree while there is a child\n",
    "        and return the predicted class for it,\n",
    "        note that X_test can be a single sample or a batch\n",
    "        '''\n",
    "        prediction = []\n",
    "        for element in X_test:\n",
    "            node = self.tree\n",
    "            while node.left:\n",
    "                if element[node.feature_index] < node.threshold:\n",
    "                    node = node.left\n",
    "                else:\n",
    "                    node = node.right\n",
    "            prediction.append(Counter(node.y).most_common()[0][0])\n",
    "        return prediction\n",
    "\n",
    "    def evaluate(self, X_test, y_test):\n",
    "        '''\n",
    "        return accuracy\n",
    "        '''\n",
    "        prediction = self.predict(X_test)\n",
    "        return sum(prediction == y_test) / len(y_test)\n"
   ]
  },
  {
   "attachments": {},
   "cell_type": "markdown",
   "metadata": {},
   "source": [
    "Testing the tree:"
   ]
  },
  {
   "cell_type": "code",
   "execution_count": 3,
   "metadata": {},
   "outputs": [
    {
     "data": {
      "text/plain": [
       "0.9298245614035088"
      ]
     },
     "execution_count": 3,
     "metadata": {},
     "output_type": "execute_result"
    }
   ],
   "source": [
    "dataset = load_breast_cancer()\n",
    "X, y = dataset.data, dataset.target\n",
    "X, X_test, y, y_test = train_test_split(X, y, test_size=0.20)\n",
    "clf = MyDecisionTreeClassifier()\n",
    "clf.fit(X, y)\n",
    "clf.evaluate(X_test, y_test)\n"
   ]
  },
  {
   "attachments": {},
   "cell_type": "markdown",
   "metadata": {},
   "source": [
    "### Extra features"
   ]
  },
  {
   "attachments": {},
   "cell_type": "markdown",
   "metadata": {},
   "source": [
    "Hyperparameter fitting (takes a **very** long time):"
   ]
  },
  {
   "cell_type": "code",
   "execution_count": 4,
   "metadata": {},
   "outputs": [],
   "source": [
    "dataset = load_breast_cancer()\n",
    "X, y = dataset.data, dataset.target\n",
    "X, X_hyper_test, y, y_hyper_test = train_test_split(X, y, test_size=0.10)\n",
    "X, X_test, y, y_test = train_test_split(X, y, test_size=0.20)\n",
    "\n",
    "clf = MyDecisionTreeClassifier()\n",
    "clf.fit(X, y)\n",
    "baseline_accuracy = clf.evaluate(X_test, y_test)\n",
    "baseline_height = 3\n",
    "baseline_min_data_for_split = 5\n",
    "for i in range(ceil(log2(dataset.data.shape[0]))):\n",
    "    for j in range(0, ceil(sqrt(dataset.data.shape[0])), 5):\n",
    "        clf = MyDecisionTreeClassifier(\n",
    "            max_depth=i, min_data_for_split=j)\n",
    "        clf.fit(X, y)\n",
    "        accuracy = clf.evaluate(X_test, y_test)\n",
    "        if accuracy > baseline_accuracy:\n",
    "            baseline_accuracy = accuracy\n",
    "            baseline_height = i\n",
    "            baseline_min_data_for_split = j\n"
   ]
  },
  {
   "attachments": {},
   "cell_type": "markdown",
   "metadata": {},
   "source": [
    "Testing if it works (compare the value from above)"
   ]
  },
  {
   "cell_type": "code",
   "execution_count": 5,
   "metadata": {},
   "outputs": [
    {
     "name": "stdout",
     "output_type": "stream",
     "text": [
      "Baseline\n",
      "Training accuracy: 0.960880195599022\n",
      "Test accuracy: 0.9029126213592233\n",
      "Hyper test accuracy: 0.9122807017543859\n",
      "Optimal height:  7\n",
      "Optimal minimum data for split: 0\n",
      "Training accuracy: 0.9902200488997555\n",
      "Test accuracy: 0.9320388349514563\n",
      "Hyper test accuracy: 0.9298245614035088\n"
     ]
    }
   ],
   "source": [
    "clf = MyDecisionTreeClassifier()\n",
    "clf.fit(X, y)\n",
    "print('Baseline')\n",
    "print('Training accuracy:', clf.evaluate(X, y))\n",
    "print('Test accuracy:', clf.evaluate(X_test, y_test))\n",
    "print('Hyper test accuracy:', clf.evaluate(X_hyper_test, y_hyper_test))\n",
    "print('Optimal height: ', baseline_height)\n",
    "print('Optimal minimum data for split:', baseline_min_data_for_split)\n",
    "clf = MyDecisionTreeClassifier(\n",
    "    max_depth=baseline_height,\n",
    "    min_data_for_split=baseline_min_data_for_split)\n",
    "clf.fit(X, y)\n",
    "print('Training accuracy:', clf.evaluate(X, y))\n",
    "print('Test accuracy:', clf.evaluate(X_test, y_test))\n",
    "print('Hyper test accuracy:', clf.evaluate(X_hyper_test, y_hyper_test))\n"
   ]
  },
  {
   "attachments": {},
   "cell_type": "markdown",
   "metadata": {},
   "source": [
    "Amusingly, under certain train/test splits the optimal hyper parameters are the same as the default, while under others the hyper parameter fitter hyperoverfits for the **test** dataset. \n",
    "\n",
    "Good thing we have a **second** testing dataset to check it against!"
   ]
  },
  {
   "attachments": {},
   "cell_type": "markdown",
   "metadata": {},
   "source": [
    "### Other quality measures:"
   ]
  },
  {
   "attachments": {},
   "cell_type": "markdown",
   "metadata": {},
   "source": [
    "Confusion matrix (shows true and false positives and negatives)"
   ]
  },
  {
   "cell_type": "code",
   "execution_count": 20,
   "metadata": {},
   "outputs": [
    {
     "name": "stdout",
     "output_type": "stream",
     "text": [
      "Train Confusion matrix\n"
     ]
    },
    {
     "data": {
      "image/png": "[encoded data removed]",
      "text/plain": [
       "<Figure size 640x480 with 2 Axes>"
      ]
     },
     "metadata": {},
     "output_type": "display_data"
    },
    {
     "name": "stdout",
     "output_type": "stream",
     "text": [
      "Test Confusion matrix\n"
     ]
    },
    {
     "data": {
      "image/png": "[encoded data removed]",
      "text/plain": [
       "<Figure size 640x480 with 2 Axes>"
      ]
     },
     "metadata": {},
     "output_type": "display_data"
    }
   ],
   "source": [
    "import seaborn as sns\n",
    "import matplotlib.pyplot as plt\n",
    "from sklearn.metrics import confusion_matrix\n",
    "\n",
    "def plot_confusionmatrix(X, y, dom):\n",
    "    print(f'{dom} Confusion matrix')\n",
    "    cf = confusion_matrix(y_pred=clf.predict(X), y_true=y)\n",
    "    sns.heatmap(cf, annot=True, yticklabels=dataset.target_names,\n",
    "                xticklabels=dataset.target_names, cmap='Blues', fmt='g')\n",
    "    plt.tight_layout()\n",
    "    plt.show()\n",
    "\n",
    "plot_confusionmatrix(X, y, dom='Train')\n",
    "plot_confusionmatrix(X_test, y_test, dom='Test')\n"
   ]
  },
  {
   "attachments": {},
   "cell_type": "markdown",
   "metadata": {},
   "source": [
    "Sensitivity (true positive rate, important because for cancer false negatives are much worse than false positives):"
   ]
  },
  {
   "cell_type": "code",
   "execution_count": 21,
   "metadata": {},
   "outputs": [
    {
     "name": "stdout",
     "output_type": "stream",
     "text": [
      "Sensitivity:  0.8461538461538461\n"
     ]
    }
   ],
   "source": [
    "true_positives=0\n",
    "false_negatives=0\n",
    "prediction=clf.predict(X_test)\n",
    "for i in range(len(prediction)):\n",
    "    if prediction[i]==y_test[i] and prediction[i]==0:\n",
    "        true_positives+=1\n",
    "    if prediction[i]!=y_test[i] and prediction[i]==1:\n",
    "        false_negatives+=1\n",
    "print('Sensitivity: ', true_positives/(true_positives+false_negatives))"
   ]
  }
 ],
 "metadata": {
  "kernelspec": {
   "display_name": "Python 3",
   "language": "python",
   "name": "python3"
  },
  "language_info": {
   "codemirror_mode": {
    "name": "ipython",
    "version": 3
   },
   "file_extension": ".py",
   "mimetype": "text/x-python",
   "name": "python",
   "nbconvert_exporter": "python",
   "pygments_lexer": "ipython3",
   "version": "3.10.7"
  },
  "vscode": {
   "interpreter": {
    "hash": "b239acf2821489c398a9848859e84ce39b99d30cc4031fb37cc7461da3883639"
   }
  }
 },
 "nbformat": 4,
 "nbformat_minor": 4
}
