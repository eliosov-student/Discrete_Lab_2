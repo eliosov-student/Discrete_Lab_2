{
 "cells": [
  {
   "attachments": {},
   "cell_type": "markdown",
   "metadata": {},
   "source": [
    "# Kruskal algorithm"
   ]
  },
  {
   "attachments": {},
   "cell_type": "markdown",
   "metadata": {},
   "source": [
    "![purple-divider](https://user-images.githubusercontent.com/7065401/52071927-c1cd7100-2562-11e9-908a-dde91ba14e59.png)"
   ]
  },
  {
   "attachments": {},
   "cell_type": "markdown",
   "metadata": {
    "notebookRunGroups": {
     "groupValue": ""
    }
   },
   "source": [
    "#### Import needed libraries"
   ]
  },
  {
   "cell_type": "code",
   "execution_count": 16,
   "metadata": {},
   "outputs": [],
   "source": [
    "import random\n",
    "import networkx as nx\n",
    "import matplotlib.pyplot as plt\n",
    "from itertools import combinations, groupby\n",
    "import time\n",
    "from tqdm import tqdm\n"
   ]
  },
  {
   "attachments": {},
   "cell_type": "markdown",
   "metadata": {},
   "source": [
    "#### Graph generation function"
   ]
  },
  {
   "cell_type": "code",
   "execution_count": 17,
   "metadata": {},
   "outputs": [],
   "source": [
    "# You can use this function to generate a random graph with 'num_of_nodes' nodes\n",
    "# and 'completeness' probability of an edge between any two nodes\n",
    "# If 'directed' is True, the graph will be directed\n",
    "# If 'draw' is True, the graph will be drawn\n",
    "def gnp_random_connected_graph(num_of_nodes: int,\n",
    "                               completeness: int,\n",
    "                               directed: bool = False,\n",
    "                               draw: bool = False):\n",
    "    \"\"\"\n",
    "    Generates a random graph, similarly to an Erdős-Rényi \n",
    "    graph, but enforcing that the resulting graph is conneted (in case of undirected graphs)\n",
    "    \"\"\"\n",
    "    if directed:\n",
    "        G = nx.DiGraph()\n",
    "    else:\n",
    "        G = nx.Graph()\n",
    "    edges = combinations(range(num_of_nodes), 2)\n",
    "    G.add_nodes_from(range(num_of_nodes))\n",
    "\n",
    "    for _, node_edges in groupby(edges, key=lambda x: x[0]):\n",
    "        node_edges = list(node_edges)\n",
    "        random_edge = random.choice(node_edges)\n",
    "        if random.random() < 0.5:\n",
    "            random_edge = random_edge[::-1]\n",
    "        G.add_edge(*random_edge)\n",
    "        for e in node_edges:\n",
    "            if random.random() < completeness:\n",
    "                G.add_edge(*e)\n",
    "\n",
    "    for (u, v, w) in G.edges(data=True):\n",
    "        w['weight'] = random.randint(-5, 20)\n",
    "\n",
    "    if draw:\n",
    "        plt.figure(figsize=(10, 6))\n",
    "        if directed:\n",
    "            # draw with edge weights\n",
    "            pos = nx.arf_layout(G)\n",
    "            nx.draw(G, pos, node_color='lightblue',\n",
    "                    with_labels=True,\n",
    "                    node_size=500,\n",
    "                    arrowsize=20,\n",
    "                    arrows=True)\n",
    "            labels = nx.get_edge_attributes(G, 'weight')\n",
    "            nx.draw_networkx_edge_labels(G, pos, edge_labels=labels)\n",
    "\n",
    "        else:\n",
    "            nx.draw(G, node_color='lightblue',\n",
    "                    with_labels=True,\n",
    "                    node_size=500)\n",
    "    return G\n"
   ]
  },
  {
   "attachments": {},
   "cell_type": "markdown",
   "metadata": {
    "slideshow": {
     "slide_type": "slide"
    },
    "tags": []
   },
   "source": [
    "# Kruskal algorithm"
   ]
  },
  {
   "attachments": {},
   "cell_type": "markdown",
   "metadata": {},
   "source": [
    "#### Task: write a function that will implement Kruskal's algorithm taking as an argument a graph generated using the module provided in the task (function gnp_random_connected_graph). Then compare developed algorithm with the one from networkx"
   ]
  },
  {
   "attachments": {},
   "cell_type": "markdown",
   "metadata": {},
   "source": [
    "![purple-divider](https://user-images.githubusercontent.com/7065401/52071927-c1cd7100-2562-11e9-908a-dde91ba14e59.png)"
   ]
  },
  {
   "cell_type": "code",
   "execution_count": 18,
   "metadata": {},
   "outputs": [],
   "source": [
    "# generate random graph\n",
    "G_kruskal = gnp_random_connected_graph(10, 1, False, False)\n"
   ]
  },
  {
   "cell_type": "code",
   "execution_count": 19,
   "metadata": {},
   "outputs": [],
   "source": [
    "def kruskals_algorithm(graph_edges):\n",
    "    \"\"\"\n",
    "    Kruskal's algorithm impemetation\n",
    "    \"\"\"\n",
    "    sorted_graph = sorted(graph_edges, key=lambda x: x[2].get('weight'))\n",
    "    connected_nodes_groups = {}\n",
    "    already_connected_nodes = []\n",
    "    min_frame = []\n",
    "    for edge in sorted_graph:\n",
    "        # checking if one of the nodes are not connected\n",
    "        if not edge[0] in already_connected_nodes or not edge[1] in already_connected_nodes:\n",
    "            # checking for both\n",
    "            if not edge[0] in already_connected_nodes and not edge[1] in already_connected_nodes:\n",
    "                # connect two nodes with each other\n",
    "                connected_nodes_groups[edge[0]] = [edge[0], edge[1]]\n",
    "                connected_nodes_groups[edge[1]] = [edge[0], edge[1]]\n",
    "            else:\n",
    "                if not connected_nodes_groups.get(edge[0]):\n",
    "                    connected_nodes_groups[edge[1]].append(edge[0])\n",
    "                    connected_nodes_groups[edge[0]\n",
    "                                           ] = connected_nodes_groups[edge[1]]\n",
    "                else:\n",
    "                    connected_nodes_groups[edge[0]].append(edge[1])\n",
    "                    connected_nodes_groups[edge[1]\n",
    "                                           ] = connected_nodes_groups[edge[0]]\n",
    "            min_frame.append(edge)\n",
    "            already_connected_nodes.append(edge[0])\n",
    "            already_connected_nodes.append(edge[1])\n",
    "    for i in sorted_graph:\n",
    "        if i[0] in connected_nodes_groups[i[0]] and i[1] not in connected_nodes_groups[i[0]]:\n",
    "            min_frame.append(i)\n",
    "    return min_frame\n"
   ]
  },
  {
   "attachments": {},
   "cell_type": "markdown",
   "metadata": {},
   "source": [
    "#### Here you can see an example of using created Kruskal algorithm. Function returns List[List[int]] (matrix). Full algorithm is implemented in kruskal_algorithm() function. It takes one argument - List[Tuple[int, int, dict]] (graph edges list with information about weight as a dict). Function returns List[Tuple[int, int, dict]] - minimum carcass for input graph"
   ]
  },
  {
   "cell_type": "code",
   "execution_count": 20,
   "metadata": {},
   "outputs": [
    {
     "data": {
      "text/plain": [
       "[(0, 8, {'weight': -5}),\n",
       " (1, 9, {'weight': -5}),\n",
       " (4, 8, {'weight': -5}),\n",
       " (5, 8, {'weight': -4}),\n",
       " (1, 7, {'weight': -3}),\n",
       " (3, 4, {'weight': -1}),\n",
       " (2, 3, {'weight': 2}),\n",
       " (6, 9, {'weight': 2}),\n",
       " (0, 7, {'weight': -2}),\n",
       " (1, 5, {'weight': -1}),\n",
       " (2, 7, {'weight': 3}),\n",
       " (5, 6, {'weight': 4}),\n",
       " (0, 9, {'weight': 5}),\n",
       " (0, 2, {'weight': 7}),\n",
       " (8, 9, {'weight': 7}),\n",
       " (6, 8, {'weight': 8}),\n",
       " (1, 2, {'weight': 10}),\n",
       " (3, 9, {'weight': 10}),\n",
       " (4, 7, {'weight': 10}),\n",
       " (5, 7, {'weight': 10}),\n",
       " (4, 9, {'weight': 11}),\n",
       " (0, 3, {'weight': 13}),\n",
       " (0, 6, {'weight': 13}),\n",
       " (1, 3, {'weight': 13}),\n",
       " (0, 1, {'weight': 14}),\n",
       " (2, 6, {'weight': 15}),\n",
       " (0, 4, {'weight': 16}),\n",
       " (0, 5, {'weight': 16}),\n",
       " (3, 6, {'weight': 17}),\n",
       " (7, 8, {'weight': 17}),\n",
       " (1, 6, {'weight': 18}),\n",
       " (1, 8, {'weight': 18}),\n",
       " (3, 7, {'weight': 18}),\n",
       " (5, 9, {'weight': 18}),\n",
       " (6, 7, {'weight': 18}),\n",
       " (1, 4, {'weight': 19}),\n",
       " (4, 6, {'weight': 19}),\n",
       " (2, 9, {'weight': 20})]"
      ]
     },
     "execution_count": 20,
     "metadata": {},
     "output_type": "execute_result"
    }
   ],
   "source": [
    "kruskals_algorithm(list(G_kruskal.edges(data=True)))\n"
   ]
  },
  {
   "attachments": {},
   "cell_type": "markdown",
   "metadata": {},
   "source": [
    "## Kruskal algrorithm time measuring"
   ]
  },
  {
   "cell_type": "code",
   "execution_count": 25,
   "metadata": {},
   "outputs": [],
   "source": [
    "from networkx.algorithms import tree\n",
    "nodes_kruskal = [10, 20, 50, 100, 200]\n",
    "NUM_OF_ITERATIONS = 1000\n"
   ]
  },
  {
   "cell_type": "code",
   "execution_count": 28,
   "metadata": {},
   "outputs": [
    {
     "name": "stderr",
     "output_type": "stream",
     "text": [
      "100%|██████████| 1000/1000 [00:00<00:00, 2509.16it/s]\n",
      "100%|██████████| 1000/1000 [00:01<00:00, 807.83it/s]\n",
      "100%|██████████| 1000/1000 [00:04<00:00, 206.37it/s]\n",
      "100%|██████████| 1000/1000 [00:19<00:00, 52.31it/s]\n",
      "100%|██████████| 1000/1000 [01:22<00:00, 12.11it/s]\n"
     ]
    }
   ],
   "source": [
    "time_taken_imported = 0\n",
    "kruskal_native_algorithm = []\n",
    "# For imported kruskal algorithm for 10, 20, 50, 100 and 200 nodes graph\n",
    "for node in nodes_kruskal:\n",
    "    for i in tqdm(range(NUM_OF_ITERATIONS)):\n",
    "        graph_for_imported = gnp_random_connected_graph(node, 0.4, False)\n",
    "\n",
    "        # measure time while algorithm is working\n",
    "        start = time.time()  # start\n",
    "        tree.minimum_spanning_tree(\n",
    "            graph_for_imported, algorithm=\"kruskal\")  # algorithm is working\n",
    "        end = time.time()  # end\n",
    "        time_taken_imported += end - start\n",
    "    kruskal_native_algorithm.append(time_taken_imported)\n",
    "    time_taken_imported / NUM_OF_ITERATIONS\n"
   ]
  },
  {
   "cell_type": "code",
   "execution_count": 27,
   "metadata": {},
   "outputs": [
    {
     "name": "stderr",
     "output_type": "stream",
     "text": [
      "100%|██████████| 1000/1000 [00:00<00:00, 3436.07it/s]\n",
      "100%|██████████| 1000/1000 [00:00<00:00, 1111.48it/s]\n",
      "100%|██████████| 1000/1000 [00:05<00:00, 198.74it/s]\n",
      "100%|██████████| 1000/1000 [00:21<00:00, 45.80it/s]\n",
      "100%|██████████| 1000/1000 [01:50<00:00,  9.05it/s]\n"
     ]
    }
   ],
   "source": [
    "time_taken_created = 0\n",
    "kruskal_own_algorithm = []\n",
    "# For created kruskal algorithm for 10, 20, 50, 100 and 200 nodes graph\n",
    "for node in nodes_kruskal:\n",
    "    for i in tqdm(range(NUM_OF_ITERATIONS)):\n",
    "        geaph_for_created = gnp_random_connected_graph(node, 0.4, False)\n",
    "\n",
    "        # measure time while algorithm is working\n",
    "        start = time.time()  # start\n",
    "        kruskals_algorithm(geaph_for_created.edges(\n",
    "            data=True))  # algorithm is working\n",
    "        end = time.time()  # end\n",
    "        time_taken_created += end - start\n",
    "    kruskal_own_algorithm.append(time_taken_created)\n",
    "    time_taken_created / NUM_OF_ITERATIONS\n"
   ]
  },
  {
   "attachments": {},
   "cell_type": "markdown",
   "metadata": {},
   "source": [
    "#### Here you can see comparing native and created algorithms and a graph that shows diference in time"
   ]
  },
  {
   "cell_type": "code",
   "execution_count": 29,
   "metadata": {},
   "outputs": [
    {
     "data": {
      "image/png": "[encoded data removed]",
      "text/plain": [
       "<Figure size 640x480 with 1 Axes>"
      ]
     },
     "metadata": {},
     "output_type": "display_data"
    }
   ],
   "source": [
    "# comparing own and native kruskal algorithms by plotting\n",
    "plt.plot(nodes_kruskal, kruskal_native_algorithm)\n",
    "plt.plot(nodes_kruskal, kruskal_own_algorithm)\n",
    "plt.show()\n"
   ]
  },
  {
   "attachments": {},
   "cell_type": "markdown",
   "metadata": {},
   "source": [
    "#### As we see, created algorithm is a little faster than native when graph nodex < 100 and slower than native when nodex > 100. This is because the native algorithm is written with better time complexity (probably other data structures), but has somewhat higher overhead"
   ]
  }
 ],
 "metadata": {
  "kernelspec": {
   "display_name": "Python 3",
   "language": "python",
   "name": "python3"
  },
  "language_info": {
   "codemirror_mode": {
    "name": "ipython",
    "version": 3
   },
   "file_extension": ".py",
   "mimetype": "text/x-python",
   "name": "python",
   "nbconvert_exporter": "python",
   "pygments_lexer": "ipython3",
   "version": "3.10.7"
  },
  "orig_nbformat": 4,
  "vscode": {
   "interpreter": {
    "hash": "b239acf2821489c398a9848859e84ce39b99d30cc4031fb37cc7461da3883639"
   }
  }
 },
 "nbformat": 4,
 "nbformat_minor": 2
}
